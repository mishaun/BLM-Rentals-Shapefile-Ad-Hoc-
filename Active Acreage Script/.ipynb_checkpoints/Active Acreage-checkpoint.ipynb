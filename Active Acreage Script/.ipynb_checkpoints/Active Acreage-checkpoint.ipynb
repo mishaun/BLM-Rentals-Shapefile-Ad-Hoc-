{
 "cells": [
  {
   "cell_type": "code",
   "execution_count": 1,
   "metadata": {},
   "outputs": [],
   "source": [
    "import pandas as pd\n",
    "import geopandas as gpd\n",
    "import re\n",
    "import seaborn as sns\n",
    "import datetime as dt\n",
    "\n",
    "from IPython.core.interactiveshell import InteractiveShell\n",
    "InteractiveShell.ast_node_interactivity = \"all\""
   ]
  },
  {
   "cell_type": "markdown",
   "metadata": {},
   "source": [
    "# Reading In Rental List - Magnum and R&R"
   ]
  },
  {
   "cell_type": "code",
   "execution_count": 2,
   "metadata": {
    "scrolled": true
   },
   "outputs": [
    {
     "data": {
      "text/plain": [
       "Index(['lot_no', 'LEASE_NO', 'EFFECTIVE', 'COUNTY', 'ST', 'Ownership',\n",
       "       'GeneralLoc', 'Due_Year', 'Acres', 'COMMENTS', 'Est_Bonus', 'Exp_date',\n",
       "       'Comments_1', 'Shape_Leng', 'Shape_Area', 'geometry'],\n",
       "      dtype='object')"
      ]
     },
     "execution_count": 2,
     "metadata": {},
     "output_type": "execute_result"
    }
   ],
   "source": [
    "#Reading Mastr shapefile\n",
    "shapefile = gpd.read_file(\"zip://BLM Master 3-2021.zip\")\n",
    "shapefile.columns"
   ]
  },
  {
   "cell_type": "markdown",
   "metadata": {},
   "source": [
    "# Filter Expired Acreage"
   ]
  },
  {
   "cell_type": "code",
   "execution_count": 11,
   "metadata": {},
   "outputs": [],
   "source": [
    "todaysDate = dt.datetime.now()\n",
    "\n",
    "todaysDate = todaysDate.strftime('%Y-%m-%d')"
   ]
  },
  {
   "cell_type": "code",
   "execution_count": 12,
   "metadata": {},
   "outputs": [
    {
     "data": {
      "text/plain": [
       "'2021-05-24'"
      ]
     },
     "execution_count": 12,
     "metadata": {},
     "output_type": "execute_result"
    }
   ],
   "source": [
    "todaysDate"
   ]
  },
  {
   "cell_type": "code",
   "execution_count": 13,
   "metadata": {},
   "outputs": [],
   "source": [
    "activeAcreageShape = shapefile.loc[shapefile['Exp_date']>todaysDate]\n",
    "TestactiveAcreageShape = shapefile.loc[shapefile['Exp_date']>'2021-04-1']"
   ]
  },
  {
   "cell_type": "code",
   "execution_count": 14,
   "metadata": {},
   "outputs": [
    {
     "name": "stdout",
     "output_type": "stream",
     "text": [
      "<class 'geopandas.geodataframe.GeoDataFrame'>\n",
      "RangeIndex: 1876 entries, 0 to 1875\n",
      "Data columns (total 16 columns):\n",
      "lot_no        1876 non-null int64\n",
      "LEASE_NO      1876 non-null object\n",
      "EFFECTIVE     1810 non-null object\n",
      "COUNTY        1876 non-null object\n",
      "ST            1873 non-null object\n",
      "Ownership     1505 non-null object\n",
      "GeneralLoc    167 non-null object\n",
      "Due_Year      1876 non-null float64\n",
      "Acres         1876 non-null float64\n",
      "COMMENTS      658 non-null object\n",
      "Est_Bonus     1876 non-null int64\n",
      "Exp_date      1833 non-null object\n",
      "Comments_1    664 non-null object\n",
      "Shape_Leng    1876 non-null float64\n",
      "Shape_Area    1876 non-null float64\n",
      "geometry      1876 non-null geometry\n",
      "dtypes: float64(4), geometry(1), int64(2), object(9)\n",
      "memory usage: 234.6+ KB\n",
      "<class 'geopandas.geodataframe.GeoDataFrame'>\n",
      "Int64Index: 986 entries, 38 to 1861\n",
      "Data columns (total 16 columns):\n",
      "lot_no        986 non-null int64\n",
      "LEASE_NO      986 non-null object\n",
      "EFFECTIVE     963 non-null object\n",
      "COUNTY        986 non-null object\n",
      "ST            986 non-null object\n",
      "Ownership     985 non-null object\n",
      "GeneralLoc    107 non-null object\n",
      "Due_Year      986 non-null float64\n",
      "Acres         986 non-null float64\n",
      "COMMENTS      260 non-null object\n",
      "Est_Bonus     986 non-null int64\n",
      "Exp_date      986 non-null object\n",
      "Comments_1    265 non-null object\n",
      "Shape_Leng    986 non-null float64\n",
      "Shape_Area    986 non-null float64\n",
      "geometry      986 non-null geometry\n",
      "dtypes: float64(4), geometry(1), int64(2), object(9)\n",
      "memory usage: 131.0+ KB\n"
     ]
    }
   ],
   "source": [
    "shapefile.info()\n",
    "activeAcreageShape.info()"
   ]
  },
  {
   "cell_type": "code",
   "execution_count": 9,
   "metadata": {},
   "outputs": [
    {
     "name": "stdout",
     "output_type": "stream",
     "text": [
      "<class 'geopandas.geodataframe.GeoDataFrame'>\n",
      "Int64Index: 1077 entries, 38 to 1861\n",
      "Data columns (total 16 columns):\n",
      "lot_no        1077 non-null int64\n",
      "LEASE_NO      1077 non-null object\n",
      "EFFECTIVE     1054 non-null object\n",
      "COUNTY        1077 non-null object\n",
      "ST            1077 non-null object\n",
      "Ownership     1076 non-null object\n",
      "GeneralLoc    126 non-null object\n",
      "Due_Year      1077 non-null float64\n",
      "Acres         1077 non-null float64\n",
      "COMMENTS      285 non-null object\n",
      "Est_Bonus     1077 non-null int64\n",
      "Exp_date      1077 non-null object\n",
      "Comments_1    290 non-null object\n",
      "Shape_Leng    1077 non-null float64\n",
      "Shape_Area    1077 non-null float64\n",
      "geometry      1077 non-null geometry\n",
      "dtypes: float64(4), geometry(1), int64(2), object(9)\n",
      "memory usage: 143.0+ KB\n"
     ]
    }
   ],
   "source": [
    "TestactiveAcreageShape.info()"
   ]
  },
  {
   "cell_type": "code",
   "execution_count": 16,
   "metadata": {},
   "outputs": [],
   "source": [
    "activeAcreageShape.to_file(\"ActiveAcreage.shp\")"
   ]
  },
  {
   "cell_type": "code",
   "execution_count": null,
   "metadata": {},
   "outputs": [],
   "source": []
  }
 ],
 "metadata": {
  "kernelspec": {
   "display_name": "Python 3",
   "language": "python",
   "name": "python3"
  },
  "language_info": {
   "codemirror_mode": {
    "name": "ipython",
    "version": 3
   },
   "file_extension": ".py",
   "mimetype": "text/x-python",
   "name": "python",
   "nbconvert_exporter": "python",
   "pygments_lexer": "ipython3",
   "version": "3.6.10"
  }
 },
 "nbformat": 4,
 "nbformat_minor": 4
}
